{
 "cells": [
  {
   "cell_type": "code",
   "execution_count": 6,
   "metadata": {},
   "outputs": [],
   "source": [
    "import numpy\n",
    "#fundamental package for scientific computing, working with multidimensional arrays"
   ]
  },
  {
   "cell_type": "code",
   "execution_count": 7,
   "metadata": {},
   "outputs": [],
   "source": [
    "import pandas\n",
    "#organize data in a tabular form and analyzes time series and huge data"
   ]
  },
  {
   "cell_type": "code",
   "execution_count": 8,
   "metadata": {},
   "outputs": [],
   "source": [
    "import matplotlib\n",
    "#2-D plotting library designed for visualization of numpy calculations "
   ]
  },
  {
   "cell_type": "code",
   "execution_count": 9,
   "metadata": {},
   "outputs": [],
   "source": [
    "import math\n",
    "#mathematical functions"
   ]
  },
  {
   "cell_type": "code",
   "execution_count": 10,
   "metadata": {},
   "outputs": [],
   "source": [
    "import random\n",
    "#random number generators"
   ]
  },
  {
   "cell_type": "code",
   "execution_count": 15,
   "metadata": {},
   "outputs": [],
   "source": [
    "import statsmodels \n",
    "#descriptive statistics, plotting tools and regressions"
   ]
  },
  {
   "cell_type": "code",
   "execution_count": 21,
   "metadata": {},
   "outputs": [],
   "source": [
    "import pandas_datareader\n",
    "#get data from different sources, like Google and Yahoo"
   ]
  },
  {
   "cell_type": "code",
   "execution_count": 22,
   "metadata": {},
   "outputs": [],
   "source": [
    "from pandas_datareader import data as pdr"
   ]
  },
  {
   "cell_type": "code",
   "execution_count": 23,
   "metadata": {},
   "outputs": [],
   "source": [
    "import fix_yahoo_finance as yf #fix"
   ]
  },
  {
   "cell_type": "code",
   "execution_count": 25,
   "metadata": {},
   "outputs": [],
   "source": [
    "yf.pdr_override()"
   ]
  },
  {
   "cell_type": "code",
   "execution_count": 28,
   "metadata": {},
   "outputs": [],
   "source": [
    "MSFT=pdr.DataReader('MSFT', data_source=\"yahoo\", start='1995-1-1')"
   ]
  },
  {
   "cell_type": "code",
   "execution_count": 30,
   "metadata": {
    "scrolled": true
   },
   "outputs": [
    {
     "name": "stdout",
     "output_type": "stream",
     "text": [
      "<class 'pandas.core.frame.DataFrame'>\n",
      "DatetimeIndex: 6048 entries, 1995-01-03 to 2019-01-09\n",
      "Data columns (total 6 columns):\n",
      "High         6048 non-null float64\n",
      "Low          6048 non-null float64\n",
      "Open         6048 non-null float64\n",
      "Close        6048 non-null float64\n",
      "Volume       6048 non-null float64\n",
      "Adj Close    6048 non-null float64\n",
      "dtypes: float64(6)\n",
      "memory usage: 330.8 KB\n"
     ]
    }
   ],
   "source": [
    "MSFT.info()"
   ]
  },
  {
   "cell_type": "code",
   "execution_count": 31,
   "metadata": {},
   "outputs": [
    {
     "data": {
      "text/html": [
       "<div>\n",
       "<style scoped>\n",
       "    .dataframe tbody tr th:only-of-type {\n",
       "        vertical-align: middle;\n",
       "    }\n",
       "\n",
       "    .dataframe tbody tr th {\n",
       "        vertical-align: top;\n",
       "    }\n",
       "\n",
       "    .dataframe thead th {\n",
       "        text-align: right;\n",
       "    }\n",
       "</style>\n",
       "<table border=\"1\" class=\"dataframe\">\n",
       "  <thead>\n",
       "    <tr style=\"text-align: right;\">\n",
       "      <th></th>\n",
       "      <th>High</th>\n",
       "      <th>Low</th>\n",
       "      <th>Open</th>\n",
       "      <th>Close</th>\n",
       "      <th>Volume</th>\n",
       "      <th>Adj Close</th>\n",
       "    </tr>\n",
       "    <tr>\n",
       "      <th>Date</th>\n",
       "      <th></th>\n",
       "      <th></th>\n",
       "      <th></th>\n",
       "      <th></th>\n",
       "      <th></th>\n",
       "      <th></th>\n",
       "    </tr>\n",
       "  </thead>\n",
       "  <tbody>\n",
       "    <tr>\n",
       "      <th>1995-01-03</th>\n",
       "      <td>3.843750</td>\n",
       "      <td>3.757812</td>\n",
       "      <td>3.843750</td>\n",
       "      <td>3.761719</td>\n",
       "      <td>39545600.0</td>\n",
       "      <td>2.729909</td>\n",
       "    </tr>\n",
       "    <tr>\n",
       "      <th>1995-01-04</th>\n",
       "      <td>3.796875</td>\n",
       "      <td>3.718750</td>\n",
       "      <td>3.765625</td>\n",
       "      <td>3.789062</td>\n",
       "      <td>51611200.0</td>\n",
       "      <td>2.749754</td>\n",
       "    </tr>\n",
       "    <tr>\n",
       "      <th>1995-01-05</th>\n",
       "      <td>3.812500</td>\n",
       "      <td>3.710938</td>\n",
       "      <td>3.804688</td>\n",
       "      <td>3.726562</td>\n",
       "      <td>39824000.0</td>\n",
       "      <td>2.704397</td>\n",
       "    </tr>\n",
       "    <tr>\n",
       "      <th>1995-01-06</th>\n",
       "      <td>3.828125</td>\n",
       "      <td>3.734375</td>\n",
       "      <td>3.742188</td>\n",
       "      <td>3.789062</td>\n",
       "      <td>46681600.0</td>\n",
       "      <td>2.749754</td>\n",
       "    </tr>\n",
       "    <tr>\n",
       "      <th>1995-01-09</th>\n",
       "      <td>3.812500</td>\n",
       "      <td>3.734375</td>\n",
       "      <td>3.804688</td>\n",
       "      <td>3.765625</td>\n",
       "      <td>46000000.0</td>\n",
       "      <td>2.732745</td>\n",
       "    </tr>\n",
       "  </tbody>\n",
       "</table>\n",
       "</div>"
      ],
      "text/plain": [
       "                High       Low      Open     Close      Volume  Adj Close\n",
       "Date                                                                     \n",
       "1995-01-03  3.843750  3.757812  3.843750  3.761719  39545600.0   2.729909\n",
       "1995-01-04  3.796875  3.718750  3.765625  3.789062  51611200.0   2.749754\n",
       "1995-01-05  3.812500  3.710938  3.804688  3.726562  39824000.0   2.704397\n",
       "1995-01-06  3.828125  3.734375  3.742188  3.789062  46681600.0   2.749754\n",
       "1995-01-09  3.812500  3.734375  3.804688  3.765625  46000000.0   2.732745"
      ]
     },
     "execution_count": 31,
     "metadata": {},
     "output_type": "execute_result"
    }
   ],
   "source": [
    "MSFT.head()"
   ]
  },
  {
   "cell_type": "code",
   "execution_count": 32,
   "metadata": {},
   "outputs": [
    {
     "data": {
      "text/html": [
       "<div>\n",
       "<style scoped>\n",
       "    .dataframe tbody tr th:only-of-type {\n",
       "        vertical-align: middle;\n",
       "    }\n",
       "\n",
       "    .dataframe tbody tr th {\n",
       "        vertical-align: top;\n",
       "    }\n",
       "\n",
       "    .dataframe thead th {\n",
       "        text-align: right;\n",
       "    }\n",
       "</style>\n",
       "<table border=\"1\" class=\"dataframe\">\n",
       "  <thead>\n",
       "    <tr style=\"text-align: right;\">\n",
       "      <th></th>\n",
       "      <th>High</th>\n",
       "      <th>Low</th>\n",
       "      <th>Open</th>\n",
       "      <th>Close</th>\n",
       "      <th>Volume</th>\n",
       "      <th>Adj Close</th>\n",
       "    </tr>\n",
       "    <tr>\n",
       "      <th>Date</th>\n",
       "      <th></th>\n",
       "      <th></th>\n",
       "      <th></th>\n",
       "      <th></th>\n",
       "      <th></th>\n",
       "      <th></th>\n",
       "    </tr>\n",
       "  </thead>\n",
       "  <tbody>\n",
       "    <tr>\n",
       "      <th>2019-01-03</th>\n",
       "      <td>100.190002</td>\n",
       "      <td>97.199997</td>\n",
       "      <td>100.099998</td>\n",
       "      <td>97.400002</td>\n",
       "      <td>42579100.0</td>\n",
       "      <td>97.400002</td>\n",
       "    </tr>\n",
       "    <tr>\n",
       "      <th>2019-01-04</th>\n",
       "      <td>102.510002</td>\n",
       "      <td>98.930000</td>\n",
       "      <td>99.720001</td>\n",
       "      <td>101.930000</td>\n",
       "      <td>44060600.0</td>\n",
       "      <td>101.930000</td>\n",
       "    </tr>\n",
       "    <tr>\n",
       "      <th>2019-01-07</th>\n",
       "      <td>103.269997</td>\n",
       "      <td>100.980003</td>\n",
       "      <td>101.639999</td>\n",
       "      <td>102.059998</td>\n",
       "      <td>35656100.0</td>\n",
       "      <td>102.059998</td>\n",
       "    </tr>\n",
       "    <tr>\n",
       "      <th>2019-01-08</th>\n",
       "      <td>103.970001</td>\n",
       "      <td>101.709999</td>\n",
       "      <td>103.040001</td>\n",
       "      <td>102.800003</td>\n",
       "      <td>31460200.0</td>\n",
       "      <td>102.800003</td>\n",
       "    </tr>\n",
       "    <tr>\n",
       "      <th>2019-01-09</th>\n",
       "      <td>104.790001</td>\n",
       "      <td>103.244499</td>\n",
       "      <td>103.860001</td>\n",
       "      <td>104.639999</td>\n",
       "      <td>18717749.0</td>\n",
       "      <td>104.639999</td>\n",
       "    </tr>\n",
       "  </tbody>\n",
       "</table>\n",
       "</div>"
      ],
      "text/plain": [
       "                  High         Low        Open       Close      Volume  \\\n",
       "Date                                                                     \n",
       "2019-01-03  100.190002   97.199997  100.099998   97.400002  42579100.0   \n",
       "2019-01-04  102.510002   98.930000   99.720001  101.930000  44060600.0   \n",
       "2019-01-07  103.269997  100.980003  101.639999  102.059998  35656100.0   \n",
       "2019-01-08  103.970001  101.709999  103.040001  102.800003  31460200.0   \n",
       "2019-01-09  104.790001  103.244499  103.860001  104.639999  18717749.0   \n",
       "\n",
       "             Adj Close  \n",
       "Date                    \n",
       "2019-01-03   97.400002  \n",
       "2019-01-04  101.930000  \n",
       "2019-01-07  102.059998  \n",
       "2019-01-08  102.800003  \n",
       "2019-01-09  104.639999  "
      ]
     },
     "execution_count": 32,
     "metadata": {},
     "output_type": "execute_result"
    }
   ],
   "source": [
    "MSFT.tail()"
   ]
  },
  {
   "cell_type": "code",
   "execution_count": 35,
   "metadata": {},
   "outputs": [
    {
     "name": "stdout",
     "output_type": "stream",
     "text": [
      "Date\n",
      "1995-01-03         NaN\n",
      "1995-01-04    0.007269\n",
      "1995-01-05   -0.016495\n",
      "1995-01-06    0.016771\n",
      "1995-01-09   -0.006186\n",
      "1995-01-10    0.012448\n",
      "1995-01-11    0.006148\n",
      "1995-01-12   -0.002037\n",
      "1995-01-13    0.024490\n",
      "1995-01-16    0.021912\n",
      "1995-01-17    0.007797\n",
      "1995-01-18    0.006770\n",
      "1995-01-19   -0.024015\n",
      "1995-01-20   -0.029527\n",
      "1995-01-23    0.019270\n",
      "1995-01-24   -0.012687\n",
      "1995-01-25   -0.004283\n",
      "1995-01-26   -0.030364\n",
      "1995-01-27    0.000000\n",
      "1995-01-30   -0.014613\n",
      "1995-01-31    0.006355\n",
      "1995-02-01   -0.004211\n",
      "1995-02-02   -0.002114\n",
      "1995-02-03    0.019067\n",
      "1995-02-06    0.012474\n",
      "1995-02-07    0.002053\n",
      "1995-02-08    0.014344\n",
      "1995-02-09    0.000000\n",
      "1995-02-10    0.002020\n",
      "1995-02-13    0.000000\n",
      "                ...   \n",
      "2018-11-26    0.032987\n",
      "2018-11-27    0.006293\n",
      "2018-11-28    0.037148\n",
      "2018-11-29   -0.008369\n",
      "2018-11-30    0.006353\n",
      "2018-12-03    0.010822\n",
      "2018-12-04   -0.031849\n",
      "2018-12-06    0.006174\n",
      "2018-12-07   -0.040022\n",
      "2018-12-10    0.026426\n",
      "2018-12-11    0.009295\n",
      "2018-12-12    0.004512\n",
      "2018-12-13    0.003392\n",
      "2018-12-14   -0.031247\n",
      "2018-12-17   -0.029614\n",
      "2018-12-18    0.010497\n",
      "2018-12-19   -0.002693\n",
      "2018-12-20   -0.021024\n",
      "2018-12-21   -0.032312\n",
      "2018-12-24   -0.041739\n",
      "2018-12-26    0.068310\n",
      "2018-12-27    0.006166\n",
      "2018-12-28   -0.007808\n",
      "2018-12-31    0.011754\n",
      "2019-01-02   -0.004430\n",
      "2019-01-03   -0.036788\n",
      "2019-01-04    0.046509\n",
      "2019-01-07    0.001275\n",
      "2019-01-08    0.007251\n",
      "2019-01-09    0.017899\n",
      "Name: simple_return, Length: 6048, dtype: float64\n"
     ]
    }
   ],
   "source": [
    "MSFT['simple_return'] = (MSFT['Adj Close'] / MSFT['Adj Close'].shift(1)) - 1\n",
    "print (MSFT['simple_return'])"
   ]
  },
  {
   "cell_type": "code",
   "execution_count": 36,
   "metadata": {},
   "outputs": [],
   "source": [
    "import matplotlib.pyplot as plt"
   ]
  },
  {
   "cell_type": "code",
   "execution_count": 38,
   "metadata": {},
   "outputs": [
    {
     "data": {
      "image/png": "[encoded data removed]",
      "text/plain": [
       "<Figure size 576x360 with 1 Axes>"
      ]
     },
     "metadata": {
      "needs_background": "light"
     },
     "output_type": "display_data"
    }
   ],
   "source": [
    "MSFT['simple_return'].plot(figsize=(8, 5))\n",
    "plt.show()"
   ]
  },
  {
   "cell_type": "code",
   "execution_count": 39,
   "metadata": {},
   "outputs": [],
   "source": [
    "#Calculate daily average returns "
   ]
  },
  {
   "cell_type": "code",
   "execution_count": 40,
   "metadata": {},
   "outputs": [
    {
     "data": {
      "text/plain": [
       "0.0008010859410584198"
      ]
     },
     "execution_count": 40,
     "metadata": {},
     "output_type": "execute_result"
    }
   ],
   "source": [
    "avg_returns_daily = MSFT['simple_return'].mean()\n",
    "avg_returns_daily"
   ]
  },
  {
   "cell_type": "code",
   "execution_count": 41,
   "metadata": {},
   "outputs": [],
   "source": [
    "#Calculate annualized average returns"
   ]
  },
  {
   "cell_type": "code",
   "execution_count": 42,
   "metadata": {},
   "outputs": [
    {
     "data": {
      "text/plain": [
       "0.20027148526460495"
      ]
     },
     "execution_count": 42,
     "metadata": {},
     "output_type": "execute_result"
    }
   ],
   "source": [
    "avg_returns_annualized = MSFT['simple_return'].mean() * 250\n",
    "avg_returns_annualized"
   ]
  },
  {
   "cell_type": "code",
   "execution_count": 43,
   "metadata": {},
   "outputs": [],
   "source": [
    "#Print rounded percentage return"
   ]
  },
  {
   "cell_type": "code",
   "execution_count": 61,
   "metadata": {},
   "outputs": [
    {
     "name": "stdout",
     "output_type": "stream",
     "text": [
      "20.03 %\n"
     ]
    }
   ],
   "source": [
    "print (str(round(avg_returns_annualized, 4) * 100) + ' %')"
   ]
  },
  {
   "cell_type": "code",
   "execution_count": 62,
   "metadata": {},
   "outputs": [],
   "source": [
    "#Calculate the standard deviation of stock returns"
   ]
  },
  {
   "cell_type": "code",
   "execution_count": 63,
   "metadata": {},
   "outputs": [
    {
     "data": {
      "text/plain": [
       "0.019914590576913666"
      ]
     },
     "execution_count": 63,
     "metadata": {},
     "output_type": "execute_result"
    }
   ],
   "source": [
    "MSFT_STD = MSFT['simple_return'].std()\n",
    "MSFT_STD"
   ]
  },
  {
   "cell_type": "code",
   "execution_count": 64,
   "metadata": {},
   "outputs": [],
   "source": [
    "#Calculate the skewness of stock returns"
   ]
  },
  {
   "cell_type": "code",
   "execution_count": 65,
   "metadata": {},
   "outputs": [
    {
     "data": {
      "text/plain": [
       "0.2150531604413035"
      ]
     },
     "execution_count": 65,
     "metadata": {},
     "output_type": "execute_result"
    }
   ],
   "source": [
    "MSFT_SKEWNESS = MSFT['simple_return'].skew()\n",
    "MSFT_SKEWNESS"
   ]
  },
  {
   "cell_type": "code",
   "execution_count": 66,
   "metadata": {},
   "outputs": [],
   "source": [
    "#Calculate the kurtosis of stock returns"
   ]
  },
  {
   "cell_type": "code",
   "execution_count": 68,
   "metadata": {},
   "outputs": [
    {
     "data": {
      "text/plain": [
       "7.348558781194253"
      ]
     },
     "execution_count": 68,
     "metadata": {},
     "output_type": "execute_result"
    }
   ],
   "source": [
    "MSFT_KURTOSIS = MSFT['simple_return'].kurtosis()\n",
    "MSFT_KURTOSIS"
   ]
  },
  {
   "cell_type": "code",
   "execution_count": 69,
   "metadata": {},
   "outputs": [],
   "source": [
    "#Plot a stock return histogram"
   ]
  },
  {
   "cell_type": "code",
   "execution_count": 72,
   "metadata": {},
   "outputs": [],
   "source": [
    "H1 = MSFT['simple_return']"
   ]
  },
  {
   "cell_type": "code",
   "execution_count": 73,
   "metadata": {},
   "outputs": [],
   "source": [
    "import numpy as np"
   ]
  },
  {
   "cell_type": "code",
   "execution_count": 74,
   "metadata": {},
   "outputs": [],
   "source": [
    "H1 = H1[np.logical_not(np.isnan(H1))]"
   ]
  },
  {
   "cell_type": "code",
   "execution_count": 75,
   "metadata": {},
   "outputs": [
    {
     "data": {
      "text/plain": [
       "Date\n",
       "1995-01-04    0.007269\n",
       "1995-01-05   -0.016495\n",
       "1995-01-06    0.016771\n",
       "1995-01-09   -0.006186\n",
       "1995-01-10    0.012448\n",
       "Name: simple_return, dtype: float64"
      ]
     },
     "execution_count": 75,
     "metadata": {},
     "output_type": "execute_result"
    }
   ],
   "source": [
    "H1.head()"
   ]
  },
  {
   "cell_type": "code",
   "execution_count": 76,
   "metadata": {},
   "outputs": [
    {
     "data": {
      "image/png": "[encoded data removed]",
      "text/plain": [
       "<Figure size 432x288 with 1 Axes>"
      ]
     },
     "metadata": {
      "needs_background": "light"
     },
     "output_type": "display_data"
    }
   ],
   "source": [
    "plt.hist(H1, bins = 50)\n",
    "plt.show()"
   ]
  }
 ],
 "metadata": {
  "kernelspec": {
   "display_name": "Python 3",
   "language": "python",
   "name": "python3"
  },
  "language_info": {
   "codemirror_mode": {
    "name": "ipython",
    "version": 3
   },
   "file_extension": ".py",
   "mimetype": "text/x-python",
   "name": "python",
   "nbconvert_exporter": "python",
   "pygments_lexer": "ipython3",
   "version": "3.7.0"
  }
 },
 "nbformat": 4,
 "nbformat_minor": 2
}
